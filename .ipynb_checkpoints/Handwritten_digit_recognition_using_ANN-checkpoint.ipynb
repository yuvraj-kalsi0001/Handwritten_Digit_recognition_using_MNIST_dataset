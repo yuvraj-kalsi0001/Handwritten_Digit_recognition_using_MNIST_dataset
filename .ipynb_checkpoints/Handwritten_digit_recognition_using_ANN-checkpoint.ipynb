{
 "cells": [
  {
   "cell_type": "markdown",
   "id": "869238be-c78d-4220-837f-e2e36d751022",
   "metadata": {},
   "source": [
    "## Importing required libraries"
   ]
  },
  {
   "cell_type": "code",
   "execution_count": 1,
   "id": "9bac63a8-8703-40e6-a5ee-f8b780fedaf6",
   "metadata": {},
   "outputs": [],
   "source": [
    "import tensorflow\n",
    "import numpy as np\n",
    "import matplotlib.pyplot as plt\n",
    "from tensorflow import keras\n",
    "from tensorflow.keras import Sequential\n",
    "from keras.layers import Dense, Flatten\n",
    "from keras.datasets import mnist"
   ]
  },
  {
   "cell_type": "markdown",
   "id": "4918d967-36df-4f53-a171-89e198ff3bf2",
   "metadata": {},
   "source": [
    "## Loading the data\n"
   ]
  },
  {
   "cell_type": "markdown",
   "id": "1a20e9e7-edf6-4607-af40-3e0b71678cd8",
   "metadata": {},
   "source": [
    "Below function will automatically load data and train test split it"
   ]
  },
  {
   "cell_type": "code",
   "execution_count": 2,
   "id": "3cd57395-fc50-434f-953e-57221f63f2aa",
   "metadata": {},
   "outputs": [],
   "source": [
    "(X_train, y_train), (X_test, y_test) = keras.datasets.mnist.load_data()"
   ]
  },
  {
   "cell_type": "code",
   "execution_count": 19,
   "id": "87beeb83-119f-4142-8702-054f6335679c",
   "metadata": {},
   "outputs": [
    {
     "data": {
      "text/plain": [
       "(28, 28)"
      ]
     },
     "execution_count": 19,
     "metadata": {},
     "output_type": "execute_result"
    }
   ],
   "source": [
    "X_train[0].shape   # Each image is 28 * 28 represented as rgb number in  3d array"
   ]
  },
  {
   "cell_type": "code",
   "execution_count": 4,
   "id": "eb06d443-ec60-409d-8256-a5937fb4f2a9",
   "metadata": {},
   "outputs": [
    {
     "data": {
      "text/plain": [
       "<matplotlib.image.AxesImage at 0x19ba7539510>"
      ]
     },
     "execution_count": 4,
     "metadata": {},
     "output_type": "execute_result"
    },
    {
     "data": {
      "image/png": "[encoded data removed]",
      "text/plain": [
       "<Figure size 640x480 with 1 Axes>"
      ]
     },
     "metadata": {},
     "output_type": "display_data"
    }
   ],
   "source": [
    "import matplotlib.pyplot as plt\n",
    "plt.imshow(X_train[0])"
   ]
  },
  {
   "cell_type": "markdown",
   "id": "a196888e-95f2-4556-8733-fff7e25f3c75",
   "metadata": {},
   "source": [
    "## Start making our model"
   ]
  },
  {
   "cell_type": "markdown",
   "id": "c13cdbfc-2c1a-4d74-9392-e20f99ec3dd4",
   "metadata": {},
   "source": [
    "We have to make the range of our data between 0 to 1 to make weightage and conversion process fast"
   ]
  },
  {
   "cell_type": "code",
   "execution_count": 5,
   "id": "24042ac8-2a90-447d-b17d-e65224b47ef6",
   "metadata": {},
   "outputs": [],
   "source": [
    "X_train = X_train/255\n",
    "X_test = X_test/255  # convert all the values from 0 to 1"
   ]
  },
  {
   "cell_type": "markdown",
   "id": "f7c52ff9-690b-4e2a-b790-ea5fca3d15e1",
   "metadata": {},
   "source": [
    "We will add layers to out model\n",
    "\n",
    "First we will flatten our data (from 2d to 1d)\n",
    "\n",
    "Then add first dense layer with 128 nodes\n",
    "\n",
    "Add as much layers you want forthe training\n",
    "\n",
    "Add output layer with 10 nodes ( when we will have more then one node in output player we will use softmax activator)"
   ]
  },
  {
   "cell_type": "code",
   "execution_count": 6,
   "id": "e21cf12b-4491-46ce-9928-8eabb1c72eba",
   "metadata": {},
   "outputs": [],
   "source": [
    "model = Sequential()\n",
    "model.add(Flatten(input_shape=(28,28)))\n",
    "model.add(Dense(128,activation='relu'))\n",
    "model.add(Dense(32,activation='relu'))\n",
    "model.add(Dense(10,activation='softmax'))"
   ]
  },
  {
   "cell_type": "code",
   "execution_count": 20,
   "id": "e3407c76-8f88-46e0-b5da-e2959b1b3c6d",
   "metadata": {},
   "outputs": [
    {
     "name": "stdout",
     "output_type": "stream",
     "text": [
      "Model: \"sequential\"\n",
      "_________________________________________________________________\n",
      " Layer (type)                Output Shape              Param #   \n",
      "=================================================================\n",
      " flatten (Flatten)           (None, 784)               0         \n",
      "                                                                 \n",
      " dense (Dense)               (None, 128)               100480    \n",
      "                                                                 \n",
      " dense_1 (Dense)             (None, 32)                4128      \n",
      "                                                                 \n",
      " dense_2 (Dense)             (None, 10)                330       \n",
      "                                                                 \n",
      "=================================================================\n",
      "Total params: 104938 (409.91 KB)\n",
      "Trainable params: 104938 (409.91 KB)\n",
      "Non-trainable params: 0 (0.00 Byte)\n",
      "_________________________________________________________________\n"
     ]
    }
   ],
   "source": [
    "model.summary()\n",
    "# inputs * nodes + biases\n",
    "# 784 * 128 + 128\n",
    "# 128 *10 +10"
   ]
  },
  {
   "cell_type": "code",
   "execution_count": 8,
   "id": "57e5b645-cc0a-409e-894d-0f7fbe7e5a76",
   "metadata": {},
   "outputs": [],
   "source": [
    "model.compile(loss='sparse_categorical_crossentropy', optimizer='Adam', metrics = [\"accuracy\"])"
   ]
  },
  {
   "cell_type": "code",
   "execution_count": 21,
   "id": "bc831023-2996-4c4b-8d40-f8fe04e5fd5c",
   "metadata": {},
   "outputs": [
    {
     "name": "stdout",
     "output_type": "stream",
     "text": [
      "Epoch 1/25\n",
      "1500/1500 [==============================] - 9s 6ms/step - loss: 0.0081 - accuracy: 0.9976 - val_loss: 0.1785 - val_accuracy: 0.9732\n",
      "Epoch 2/25\n",
      "1500/1500 [==============================] - 7s 5ms/step - loss: 0.0082 - accuracy: 0.9970 - val_loss: 0.1451 - val_accuracy: 0.9778\n",
      "Epoch 3/25\n",
      "1500/1500 [==============================] - 6s 4ms/step - loss: 0.0072 - accuracy: 0.9977 - val_loss: 0.1636 - val_accuracy: 0.9768\n",
      "Epoch 4/25\n",
      "1500/1500 [==============================] - 7s 4ms/step - loss: 0.0045 - accuracy: 0.9985 - val_loss: 0.1726 - val_accuracy: 0.9754\n",
      "Epoch 5/25\n",
      "1500/1500 [==============================] - 5s 3ms/step - loss: 0.0075 - accuracy: 0.9976 - val_loss: 0.1778 - val_accuracy: 0.9756\n",
      "Epoch 6/25\n",
      "1500/1500 [==============================] - 5s 3ms/step - loss: 0.0076 - accuracy: 0.9975 - val_loss: 0.1591 - val_accuracy: 0.9776\n",
      "Epoch 7/25\n",
      "1500/1500 [==============================] - 5s 3ms/step - loss: 0.0079 - accuracy: 0.9975 - val_loss: 0.1950 - val_accuracy: 0.9743\n",
      "Epoch 8/25\n",
      "1500/1500 [==============================] - 6s 4ms/step - loss: 0.0077 - accuracy: 0.9979 - val_loss: 0.1601 - val_accuracy: 0.9788\n",
      "Epoch 9/25\n",
      "1500/1500 [==============================] - 7s 5ms/step - loss: 0.0044 - accuracy: 0.9985 - val_loss: 0.2272 - val_accuracy: 0.9732\n",
      "Epoch 10/25\n",
      "1500/1500 [==============================] - 6s 4ms/step - loss: 0.0075 - accuracy: 0.9976 - val_loss: 0.2045 - val_accuracy: 0.9737\n",
      "Epoch 11/25\n",
      "1500/1500 [==============================] - 6s 4ms/step - loss: 0.0048 - accuracy: 0.9984 - val_loss: 0.1687 - val_accuracy: 0.9775\n",
      "Epoch 12/25\n",
      "1500/1500 [==============================] - 6s 4ms/step - loss: 0.0067 - accuracy: 0.9978 - val_loss: 0.1999 - val_accuracy: 0.9752\n",
      "Epoch 13/25\n",
      "1500/1500 [==============================] - 6s 4ms/step - loss: 0.0085 - accuracy: 0.9976 - val_loss: 0.1852 - val_accuracy: 0.9773\n",
      "Epoch 14/25\n",
      "1500/1500 [==============================] - 7s 5ms/step - loss: 0.0048 - accuracy: 0.9986 - val_loss: 0.2009 - val_accuracy: 0.9748\n",
      "Epoch 15/25\n",
      "1500/1500 [==============================] - 6s 4ms/step - loss: 0.0040 - accuracy: 0.9989 - val_loss: 0.1984 - val_accuracy: 0.9768\n",
      "Epoch 16/25\n",
      "1500/1500 [==============================] - 6s 4ms/step - loss: 0.0095 - accuracy: 0.9972 - val_loss: 0.2022 - val_accuracy: 0.9753\n",
      "Epoch 17/25\n",
      "1500/1500 [==============================] - 6s 4ms/step - loss: 0.0039 - accuracy: 0.9988 - val_loss: 0.1764 - val_accuracy: 0.9790\n",
      "Epoch 18/25\n",
      "1500/1500 [==============================] - 6s 4ms/step - loss: 0.0088 - accuracy: 0.9977 - val_loss: 0.2129 - val_accuracy: 0.9742\n",
      "Epoch 19/25\n",
      "1500/1500 [==============================] - 6s 4ms/step - loss: 0.0069 - accuracy: 0.9978 - val_loss: 0.2074 - val_accuracy: 0.9736\n",
      "Epoch 20/25\n",
      "1500/1500 [==============================] - 7s 4ms/step - loss: 0.0046 - accuracy: 0.9987 - val_loss: 0.1879 - val_accuracy: 0.9787\n",
      "Epoch 21/25\n",
      "1500/1500 [==============================] - 7s 4ms/step - loss: 0.0041 - accuracy: 0.9987 - val_loss: 0.2097 - val_accuracy: 0.9776\n",
      "Epoch 22/25\n",
      "1500/1500 [==============================] - 6s 4ms/step - loss: 0.0078 - accuracy: 0.9978 - val_loss: 0.1871 - val_accuracy: 0.9791\n",
      "Epoch 23/25\n",
      "1500/1500 [==============================] - 5s 4ms/step - loss: 0.0039 - accuracy: 0.9987 - val_loss: 0.2210 - val_accuracy: 0.9765\n",
      "Epoch 24/25\n",
      "1500/1500 [==============================] - 6s 4ms/step - loss: 0.0055 - accuracy: 0.9985 - val_loss: 0.1957 - val_accuracy: 0.9783\n",
      "Epoch 25/25\n",
      "1500/1500 [==============================] - 6s 4ms/step - loss: 0.0048 - accuracy: 0.9987 - val_loss: 0.2283 - val_accuracy: 0.9735\n"
     ]
    }
   ],
   "source": [
    "history = model.fit(X_train, y_train, epochs=25,validation_split=0.2)  # Train our model"
   ]
  },
  {
   "cell_type": "code",
   "execution_count": 10,
   "id": "2336ddef-b817-486a-b4d4-c32d4c0c0040",
   "metadata": {},
   "outputs": [
    {
     "name": "stdout",
     "output_type": "stream",
     "text": [
      "313/313 [==============================] - 1s 2ms/step\n"
     ]
    }
   ],
   "source": [
    "y_prob = model.predict(X_test)"
   ]
  },
  {
   "cell_type": "markdown",
   "id": "b6ac8e28-1da5-40b6-9e0c-90a86e5cf629",
   "metadata": {},
   "source": [
    "Here it will store the element with max probabilty"
   ]
  },
  {
   "cell_type": "code",
   "execution_count": 11,
   "id": "e9376143-c920-473d-84bd-7eecb18fc7eb",
   "metadata": {},
   "outputs": [],
   "source": [
    "y_pred = y_prob.argmax(axis=1)"
   ]
  },
  {
   "cell_type": "code",
   "execution_count": 12,
   "id": "a4940110-c518-40ab-ba12-6e739fc7bbb6",
   "metadata": {},
   "outputs": [
    {
     "data": {
      "text/plain": [
       "0.9773"
      ]
     },
     "execution_count": 12,
     "metadata": {},
     "output_type": "execute_result"
    }
   ],
   "source": [
    "from sklearn.metrics import accuracy_score\n",
    "accuracy_score(y_test, y_pred)"
   ]
  },
  {
   "cell_type": "markdown",
   "id": "7642c41a-2271-4400-885a-4a51579a73e9",
   "metadata": {},
   "source": [
    "We will check the relationship between accuracy and loss"
   ]
  },
  {
   "cell_type": "code",
   "execution_count": 13,
   "id": "3557ab39-1aa7-48c6-a57a-c57c41b12bd1",
   "metadata": {},
   "outputs": [
    {
     "data": {
      "text/plain": [
       "[<matplotlib.lines.Line2D at 0x19bc90d7580>]"
      ]
     },
     "execution_count": 13,
     "metadata": {},
     "output_type": "execute_result"
    },
    {
     "data": {
      "image/png": "[encoded data removed]",
      "text/plain": [
       "<Figure size 640x480 with 1 Axes>"
      ]
     },
     "metadata": {},
     "output_type": "display_data"
    }
   ],
   "source": [
    "plt.plot(history.history['loss'])\n",
    "plt.plot(history.history['val_loss'])"
   ]
  },
  {
   "cell_type": "code",
   "execution_count": 15,
   "id": "8f3d7587-4a99-4ca2-80ed-f2e1e31a88dd",
   "metadata": {},
   "outputs": [
    {
     "data": {
      "text/plain": [
       "[<matplotlib.lines.Line2D at 0x19bc91faa10>]"
      ]
     },
     "execution_count": 15,
     "metadata": {},
     "output_type": "execute_result"
    },
    {
     "data": {
      "image/png": "[encoded data removed]",
      "text/plain": [
       "<Figure size 640x480 with 1 Axes>"
      ]
     },
     "metadata": {},
     "output_type": "display_data"
    }
   ],
   "source": [
    "plt.plot(history.history['accuracy'])\n",
    "plt.plot(history.history['val_accuracy'])"
   ]
  },
  {
   "cell_type": "markdown",
   "id": "674ae347-0088-499f-b209-eb0d68a7b5bc",
   "metadata": {},
   "source": [
    "## Testing of out model"
   ]
  },
  {
   "cell_type": "code",
   "execution_count": 16,
   "id": "67e46b0c-8a9a-4fba-b64d-9219a0caf20c",
   "metadata": {},
   "outputs": [
    {
     "data": {
      "text/plain": [
       "<matplotlib.image.AxesImage at 0x19bc925da80>"
      ]
     },
     "execution_count": 16,
     "metadata": {},
     "output_type": "execute_result"
    },
    {
     "data": {
      "image/png": "[encoded data removed]",
      "text/plain": [
       "<Figure size 640x480 with 1 Axes>"
      ]
     },
     "metadata": {},
     "output_type": "display_data"
    }
   ],
   "source": [
    "plt.imshow(X_test[0])"
   ]
  },
  {
   "cell_type": "code",
   "execution_count": 22,
   "id": "7be83ae9-4e9b-4d2b-867b-48ea75381ccd",
   "metadata": {},
   "outputs": [
    {
     "name": "stdout",
     "output_type": "stream",
     "text": [
      "1/1 [==============================] - 0s 62ms/step\n"
     ]
    },
    {
     "data": {
      "text/plain": [
       "array([7], dtype=int64)"
      ]
     },
     "execution_count": 22,
     "metadata": {},
     "output_type": "execute_result"
    }
   ],
   "source": [
    "model.predict(X_test[0].reshape(1,28,28)).argmax(axis=1)"
   ]
  },
  {
   "cell_type": "code",
   "execution_count": 23,
   "id": "efbdd907-dd8d-4259-b470-5f1079ff3fd7",
   "metadata": {},
   "outputs": [
    {
     "data": {
      "text/plain": [
       "<matplotlib.image.AxesImage at 0x19bcb3baa70>"
      ]
     },
     "execution_count": 23,
     "metadata": {},
     "output_type": "execute_result"
    },
    {
     "data": {
      "image/png": "[encoded data removed]",
      "text/plain": [
       "<Figure size 640x480 with 1 Axes>"
      ]
     },
     "metadata": {},
     "output_type": "display_data"
    }
   ],
   "source": [
    "plt.imshow(X_test[5])"
   ]
  },
  {
   "cell_type": "code",
   "execution_count": 24,
   "id": "3e5b0237-6cbf-4ff1-9ea7-1fba847cfcf8",
   "metadata": {},
   "outputs": [
    {
     "name": "stdout",
     "output_type": "stream",
     "text": [
      "1/1 [==============================] - 0s 56ms/step\n"
     ]
    },
    {
     "data": {
      "text/plain": [
       "array([1], dtype=int64)"
      ]
     },
     "execution_count": 24,
     "metadata": {},
     "output_type": "execute_result"
    }
   ],
   "source": [
    "model.predict(X_test[5].reshape(1,28,28)).argmax(axis=1)"
   ]
  },
  {
   "cell_type": "code",
   "execution_count": null,
   "id": "2e651b6d-d0ee-4d90-923c-5cc31fa67ec6",
   "metadata": {},
   "outputs": [],
   "source": []
  }
 ],
 "metadata": {
  "kernelspec": {
   "display_name": "Python 3 (ipykernel)",
   "language": "python",
   "name": "python3"
  },
  "language_info": {
   "codemirror_mode": {
    "name": "ipython",
    "version": 3
   },
   "file_extension": ".py",
   "mimetype": "text/x-python",
   "name": "python",
   "nbconvert_exporter": "python",
   "pygments_lexer": "ipython3",
   "version": "3.10.11"
  }
 },
 "nbformat": 4,
 "nbformat_minor": 5
}
